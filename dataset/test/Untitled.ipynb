{
 "cells": [
  {
   "cell_type": "code",
   "execution_count": 5,
   "id": "7d0b5532-cc0a-4732-8d69-d945ea88a824",
   "metadata": {
    "tags": []
   },
   "outputs": [],
   "source": [
    "import os\n",
    "import shutil"
   ]
  },
  {
   "cell_type": "code",
   "execution_count": 6,
   "id": "77b2101d-dec7-414b-85a5-851115414ea8",
   "metadata": {
    "tags": []
   },
   "outputs": [],
   "source": [
    "dataset_path = \"dataset/test\""
   ]
  },
  {
   "cell_type": "code",
   "execution_count": 7,
   "id": "0aae6406-7436-405b-91e5-433d6471947b",
   "metadata": {
    "tags": []
   },
   "outputs": [],
   "source": [
    "def trier_dataset(dataset_path):\n",
    "    \n",
    "    # ici je crée le dossier fitness_poses_images_in et les sous-dossiers push up et push down s'ils n'existent pas déjà :\n",
    "\n",
    "    push_up_dir = os.path.join(dataset_path, \"fitness_poses_images_in/push up\")\n",
    "    push_down_dir = os.path.join(dataset_path, \"fitness_poses_images_in/push down\")\n",
    "\n",
    "    os.makedirs(push_up_dir, exist_ok=True)\n",
    "    os.makedirs(push_down_dir, exist_ok=True)\n",
    "\n",
    "    # Parcourir tous les fichiers dans le dossier\n",
    "    for fichier in os.listdir(dataset_path):\n",
    "\n",
    "        # Si le fichier est une image jpeg\n",
    "\n",
    "        if fichier.endswith(\".jpg\") or fichier.endswith(\".jpeg\"):\n",
    "\n",
    "            nom_fichier_sans_extension = os.path.splitext(fichier)[0]\n",
    "\n",
    "            txt_fichier = nom_fichier_sans_extension + \".txt\"\n",
    "\n",
    "            # Vérifier si le fichier texte existe\n",
    "\n",
    "            if os.path.isfile(os.path.join(dataset_path, txt_fichier)):\n",
    "\n",
    "                # Lire la première colonne du fichier texte\n",
    "\n",
    "                with open(os.path.join(dataset_path, txt_fichier), \"r\") as f:\n",
    "\n",
    "                    premiere_colonne = f.readline().strip()\n",
    "\n",
    "                # Si la première colonne est 1, déplacer le couple dans le dossier push up\n",
    "\n",
    "                if premiere_colonne == \"1\":\n",
    "\n",
    "                    shutil.move(os.path.join(dataset_path, fichier), push_up_dir)\n",
    "\n",
    "                    shutil.move(os.path.join(dataset_path, txt_fichier), push_up_dir)\n",
    "\n",
    "                # Si la première colonne est 0, déplacer le couple dans le dossier push down\n",
    "\n",
    "                elif premiere_colonne == \"0\":\n",
    "\n",
    "                    shutil.move(os.path.join(dataset_path, fichier), push_down_dir)\n",
    "\n",
    "                    shutil.move(os.path.join(dataset_path, txt_fichier), push_down_dir)"
   ]
  },
  {
   "cell_type": "code",
   "execution_count": 8,
   "id": "f0087853-080f-4e05-9854-42929a6d4381",
   "metadata": {
    "tags": []
   },
   "outputs": [],
   "source": [
    "trier_dataset(dataset_path)"
   ]
  },
  {
   "cell_type": "code",
   "execution_count": null,
   "id": "78a56e1e-7614-44cb-875b-2b3506d087f6",
   "metadata": {},
   "outputs": [],
   "source": []
  }
 ],
 "metadata": {
  "kernelspec": {
   "display_name": "Python 3 (ipykernel)",
   "language": "python",
   "name": "python3"
  },
  "language_info": {
   "codemirror_mode": {
    "name": "ipython",
    "version": 3
   },
   "file_extension": ".py",
   "mimetype": "text/x-python",
   "name": "python",
   "nbconvert_exporter": "python",
   "pygments_lexer": "ipython3",
   "version": "3.10.9"
  }
 },
 "nbformat": 4,
 "nbformat_minor": 5
}
